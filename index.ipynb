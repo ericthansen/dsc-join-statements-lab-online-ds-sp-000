{
 "cells": [
  {
   "cell_type": "markdown",
   "metadata": {},
   "source": [
    "# Join Statements - Lab\n",
    "\n",
    "## Introduction\n",
    "\n",
    "In this lab, you'll practice your knowledge of `JOIN` statements, using various types of joins and various methods for specifying the links between them.\n",
    "\n",
    "## Objectives\n",
    "\n",
    "You will be able to:\n",
    "* Write SQL queries that make use of various types of joins\n",
    "* Compare and contrast the various types of joins\n",
    "* Discuss how primary and foreign keys are used in SQL\n",
    "* Decide and perform whichever type of join is best for retrieving desired data"
   ]
  },
  {
   "cell_type": "markdown",
   "metadata": {},
   "source": [
    "## CRM Schema\n",
    "\n",
    "In almost all cases, rather than just working with a single table you will typically need data from multiple tables. \n",
    "Doing this requires the use of **joins** using shared columns from the two tables. \n",
    "\n",
    "In this lab, you'll use the same customer relationship management (CRM) database that you saw from the previous lesson.\n",
    "<img src='images/Database-Schema.png' width=\"600\">"
   ]
  },
  {
   "cell_type": "markdown",
   "metadata": {},
   "source": [
    "## Connecting to the Database\n",
    "Import the necessary packages and connect to the database `'data.sqlite'`."
   ]
  },
  {
   "cell_type": "code",
   "execution_count": 5,
   "metadata": {},
   "outputs": [],
   "source": [
    "# Your code here\n",
    "import sqlite3\n",
    "import pandas as pd\n",
    "\n",
    "conn = sqlite3.Connection('data.sqlite')\n",
    "cur = conn.cursor()\n",
    "\n"
   ]
  },
  {
   "cell_type": "markdown",
   "metadata": {},
   "source": [
    "## Display the names of all the employees in Boston \n",
    "\n",
    "Hint: join the employees and offices tables."
   ]
  },
  {
   "cell_type": "code",
   "execution_count": 27,
   "metadata": {},
   "outputs": [
    {
     "data": {
      "text/html": [
       "<div>\n",
       "<style scoped>\n",
       "    .dataframe tbody tr th:only-of-type {\n",
       "        vertical-align: middle;\n",
       "    }\n",
       "\n",
       "    .dataframe tbody tr th {\n",
       "        vertical-align: top;\n",
       "    }\n",
       "\n",
       "    .dataframe thead th {\n",
       "        text-align: right;\n",
       "    }\n",
       "</style>\n",
       "<table border=\"1\" class=\"dataframe\">\n",
       "  <thead>\n",
       "    <tr style=\"text-align: right;\">\n",
       "      <th></th>\n",
       "      <th>lastName</th>\n",
       "      <th>firstName</th>\n",
       "      <th>city</th>\n",
       "    </tr>\n",
       "  </thead>\n",
       "  <tbody>\n",
       "    <tr>\n",
       "      <th>0</th>\n",
       "      <td>Firrelli</td>\n",
       "      <td>Julie</td>\n",
       "      <td>Boston</td>\n",
       "    </tr>\n",
       "    <tr>\n",
       "      <th>1</th>\n",
       "      <td>Patterson</td>\n",
       "      <td>Steve</td>\n",
       "      <td>Boston</td>\n",
       "    </tr>\n",
       "  </tbody>\n",
       "</table>\n",
       "</div>"
      ],
      "text/plain": [
       "    lastName firstName    city\n",
       "0   Firrelli     Julie  Boston\n",
       "1  Patterson     Steve  Boston"
      ]
     },
     "execution_count": 27,
     "metadata": {},
     "output_type": "execute_result"
    }
   ],
   "source": [
    "# Your code here\n",
    "# Your code here\n",
    "cur.execute(\"\"\"SELECT lastname, firstname, o.city\n",
    "                      FROM employees e\n",
    "                      JOIN offices o\n",
    "                      USING(officeCode)\n",
    "                      WHERE o.city == 'Boston'\n",
    "                      ;\"\"\")\n",
    "df = pd.DataFrame(cur.fetchall())\n",
    "df.columns = [x[0] for x in cur.description]\n",
    "df.head()\n"
   ]
  },
  {
   "cell_type": "markdown",
   "metadata": {},
   "source": [
    "## Are there any offices that have zero employees?\n",
    "Hint: Combine the employees and offices tables and use a group by."
   ]
  },
  {
   "cell_type": "code",
   "execution_count": 64,
   "metadata": {
    "scrolled": true
   },
   "outputs": [
    {
     "name": "stdout",
     "output_type": "stream",
     "text": [
      "   officeCode  count(lastName)\n",
      "0           1                6\n",
      "1           2                2\n",
      "2           3                2\n",
      "3           4                5\n",
      "4           5                2\n",
      "5           6                4\n",
      "6           7                2\n",
      "   officeCode           city             phone              addressLine1  \\\n",
      "0           1  San Francisco   +1 650 219 4782         100 Market Street   \n",
      "1           2         Boston   +1 215 837 0825          1550 Court Place   \n",
      "2           3            NYC   +1 212 555 3000      523 East 53rd Street   \n",
      "3           4          Paris   +33 14 723 4404  43 Rue Jouffroy D'abbans   \n",
      "4           5          Tokyo   +81 33 224 5000               4-1 Kioicho   \n",
      "5           6         Sydney   +61 2 9264 2451     5-11 Wentworth Avenue   \n",
      "6           7         London  +44 20 7877 2041       25 Old Broad Street   \n",
      "7          27         Boston   +1 977 299 8345      105 Cambridge Street   \n",
      "\n",
      "  addressLine2       state    country postalCode territory  \n",
      "0    Suite 300          CA        USA      94080        NA  \n",
      "1    Suite 102          MA        USA      02107        NA  \n",
      "2      apt. 5A          NY        USA      10022        NA  \n",
      "3                              France      75017      EMEA  \n",
      "4               Chiyoda-Ku      Japan   102-8578     Japan  \n",
      "5     Floor #2              Australia   NSW 2010      APAC  \n",
      "6      Level 7                     UK   EC2N 1HN      EMEA  \n",
      "7                       MA        USA      02331        NA  \n",
      "no records located. Office 27 has no employees\n"
     ]
    }
   ],
   "source": [
    "# Your code here\n",
    "# cur.execute(\"\"\"SELECT count(lastName) as Num_Emps, o.city\n",
    "#                       FROM employees e\n",
    "#                       RIGHT JOIN offices o\n",
    "#                       USING(officeCode)\n",
    "#                       GROUP BY officeCode\n",
    "#                       --HAVING Num_Emps == 0\n",
    "#                       ;\"\"\")\n",
    "\n",
    "cur.execute(\"\"\"\n",
    "            SELECT officeCode, count(lastName)\n",
    "            FROM offices o\n",
    "            JOIN employees e\n",
    "            \n",
    "            USING(officeCode)\n",
    "            GROUP BY officeCode\n",
    "            \n",
    "            ;\"\"\")\n",
    "df = pd.DataFrame(cur.fetchall())\n",
    "df.columns = [x[0] for x in cur.description]\n",
    "print(df.tail(10))\n",
    "\n",
    "\n",
    "cur.execute(\"\"\"SELECT *\n",
    "                      FROM offices\n",
    "                      ;\"\"\")\n",
    "\n",
    "df = pd.DataFrame(cur.fetchall())\n",
    "df.columns = [x[0] for x in cur.description]\n",
    "print(df.tail(10))\n",
    "\n",
    "try:\n",
    "    cur.execute(\"\"\"SELECT *\n",
    "          FROM employees\n",
    "          WHERE officeCode == '27'\n",
    "          ;\"\"\")\n",
    "\n",
    "    df = pd.DataFrame(cur.fetchall())\n",
    "    df.columns = [x[0] for x in cur.description]\n",
    "    print(df.tail(10))\n",
    "except:\n",
    "    print('no records located. Office 27 has no employees')"
   ]
  },
  {
   "cell_type": "markdown",
   "metadata": {},
   "source": [
    "## Write 3 Questions of your own and answer them"
   ]
  },
  {
   "cell_type": "code",
   "execution_count": null,
   "metadata": {},
   "outputs": [],
   "source": [
    "# Answers will vary\n",
    "# Example: Display the htmlDescription and employee's first and last name for each product that each employee has sold"
   ]
  },
  {
   "cell_type": "code",
   "execution_count": 82,
   "metadata": {},
   "outputs": [
    {
     "name": "stdout",
     "output_type": "stream",
     "text": [
      "    HTML_Desc lastName firstName  orderNumber\n",
      "311             Vanauf    George        10233\n",
      "312             Vanauf    George        10235\n",
      "313             Vanauf    George        10236\n",
      "314             Vanauf    George        10248\n",
      "315             Vanauf    George        10251\n",
      "316             Vanauf    George        10263\n",
      "317             Vanauf    George        10283\n",
      "318             Vanauf    George        10292\n",
      "319             Vanauf    George        10308\n",
      "320             Vanauf    George        10313\n",
      "321             Vanauf    George        10329\n",
      "322             Vanauf    George        10331\n",
      "323             Vanauf    George        10353\n",
      "324             Vanauf    George        10401\n",
      "325             Vanauf    George        10413\n"
     ]
    }
   ],
   "source": [
    "# Your code here\n",
    "# Example: Display the htmlDescription and employee's first and last name for each product that each employee has sold\n",
    "cur.execute(\"\"\"\n",
    "            SELECT /*max(textDescription),*/ max(htmlDescription) as HTML_Desc, /*productName,*/ lastName, firstName, orderNumber\n",
    "            FROM orders o\n",
    "            JOIN customers c\n",
    "            USING(customerNumber)\n",
    "            JOIN employees e\n",
    "            ON e.employeeNumber = c.salesRepEmployeeNumber\n",
    "            JOIN orderdetails \n",
    "            USING(orderNumber)\n",
    "            JOIN products\n",
    "            USING(productCode)\n",
    "            JOIN productlines\n",
    "            USING(productLine)\n",
    "            GROUP BY lastName, firstName, orderNumber\n",
    "            \n",
    "            ;\"\"\")\n",
    "#cur.execute(\"\"\"Select htmlDescription from productlines\"\"\")\n",
    "df = pd.DataFrame(cur.fetchall())\n",
    "df.columns = [x[0] for x in cur.description]\n",
    "print(df.tail(15))"
   ]
  },
  {
   "cell_type": "code",
   "execution_count": 85,
   "metadata": {},
   "outputs": [
    {
     "name": "stdout",
     "output_type": "stream",
     "text": [
      "   EmpLastName  sum_Of_Credit\n",
      "0     Thompson         391600\n",
      "1        Nishi         419500\n",
      "2       Fixter         430300\n",
      "3       Gerard         431500\n",
      "4     Firrelli         443500\n",
      "5        Marsh         460400\n",
      "6        Tseng         466300\n",
      "7    Patterson         489200\n",
      "8       Bondur         517400\n",
      "9     Jennings         602600\n",
      "10   Hernandez         642500\n",
      "11      Vanauf         647100\n",
      "12        Bott         729500\n",
      "13       Jones         769600\n",
      "14    Castillo         813400\n"
     ]
    }
   ],
   "source": [
    "# Your code here\n",
    "#find top sums of credit limits of customers for each employee\n",
    "\n",
    "cur.execute(\"\"\"\n",
    "            SELECT lastName as EmpLastName, sum(creditLimit) as sum_Of_Credit\n",
    "            FROM employees e\n",
    "            JOIN customers c\n",
    "            ON e.employeeNumber = c.salesRepEmployeeNumber\n",
    "            GROUP BY lastName, firstName\n",
    "            ORDER BY sum_Of_Credit\n",
    "            \n",
    "            ;\"\"\")\n",
    "\n",
    "df = pd.DataFrame(cur.fetchall())\n",
    "df.columns = [x[0] for x in cur.description]\n",
    "print(df.tail(15))"
   ]
  },
  {
   "cell_type": "code",
   "execution_count": 88,
   "metadata": {},
   "outputs": [
    {
     "name": "stdout",
     "output_type": "stream",
     "text": [
      "   EmpLastName EmpFirstName  sum_Of_Pmt_Amt\n",
      "0    Hernandez       Gerard      1112003.81\n",
      "1     Jennings       Leslie       989906.55\n",
      "2     Castillo       Pamela       750201.87\n",
      "3         Bott        Larry       686653.25\n",
      "4        Jones        Barry       637672.65\n",
      "5       Vanauf       George       584406.80\n",
      "6       Bondur         Loui       569485.75\n",
      "7       Fixter         Andy       509385.82\n",
      "8        Marsh        Peter       497907.16\n",
      "9        Tseng     Foon Yue       488212.67\n",
      "10       Nishi         Mami       457110.07\n",
      "11   Patterson        Steve       449219.13\n",
      "12      Gerard       Martin       387477.47\n",
      "13    Firrelli        Julie       386663.20\n",
      "14    Thompson       Leslie       347533.03\n"
     ]
    }
   ],
   "source": [
    "# Your code here\n",
    "# Your code here\n",
    "#Find total Payment Amounts for each Employee\n",
    "\n",
    "cur.execute(\"\"\"\n",
    "            SELECT lastName as EmpLastName, firstName as EmpFirstName, sum(amount) as sum_Of_Pmt_Amt\n",
    "            FROM employees e\n",
    "            JOIN customers c\n",
    "            ON e.employeeNumber = c.salesRepEmployeeNumber\n",
    "            JOIN payments p\n",
    "            USING(customerNumber)\n",
    "            GROUP BY lastName, firstName\n",
    "            ORDER BY sum_Of_Pmt_Amt DESC\n",
    "            \n",
    "            ;\"\"\")\n",
    "\n",
    "df = pd.DataFrame(cur.fetchall())\n",
    "df.columns = [x[0] for x in cur.description]\n",
    "print(df.tail(15))"
   ]
  },
  {
   "cell_type": "markdown",
   "metadata": {},
   "source": [
    "## Level Up: Display the names of every individual product that each employee has sold"
   ]
  },
  {
   "cell_type": "code",
   "execution_count": 92,
   "metadata": {},
   "outputs": [
    {
     "name": "stdout",
     "output_type": "stream",
     "text": [
      "                                        ProdName lastName firstName\n",
      "311                    The USS Constitution Ship   Vanauf    George\n",
      "312                               P-51-D Mustang   Vanauf    George\n",
      "313                        1996 Moto Guzzi 1100i   Vanauf    George\n",
      "314                    The USS Constitution Ship   Vanauf    George\n",
      "315         2003 Harley-Davidson Eagle Drag Bike   Vanauf    George\n",
      "316                               P-51-D Mustang   Vanauf    George\n",
      "317                    The USS Constitution Ship   Vanauf    George\n",
      "318             Diamond T620 Semi-Skirted Tanker   Vanauf    George\n",
      "319                               P-51-D Mustang   Vanauf    George\n",
      "320  1996 Peterbilt 379 Stake Bed with Outrigger   Vanauf    George\n",
      "321                             Boeing X-32A JSF   Vanauf    George\n",
      "322                           2002 Yamaha YZR M1   Vanauf    George\n",
      "323                               P-51-D Mustang   Vanauf    George\n",
      "324                               P-51-D Mustang   Vanauf    George\n",
      "325                            2001 Ferrari Enzo   Vanauf    George\n"
     ]
    }
   ],
   "source": [
    "# Your code here\n",
    "cur.execute(\"\"\"\n",
    "            SELECT max(productName) as ProdName, lastName, firstName/*, orderNumber*/\n",
    "            FROM orders o\n",
    "            JOIN customers c\n",
    "            USING(customerNumber)\n",
    "            JOIN employees e\n",
    "            ON e.employeeNumber = c.salesRepEmployeeNumber\n",
    "            JOIN orderdetails \n",
    "            USING(orderNumber)\n",
    "            JOIN products\n",
    "            USING(productCode)\n",
    "            GROUP BY lastName, firstName, orderNumber\n",
    "            \n",
    "            ;\"\"\")\n",
    "\n",
    "df = pd.DataFrame(cur.fetchall())\n",
    "df.columns = [x[0] for x in cur.description]\n",
    "print(df.tail(15))"
   ]
  },
  {
   "cell_type": "markdown",
   "metadata": {},
   "source": [
    "## Level Up: Display the Number of Products each employee has sold"
   ]
  },
  {
   "cell_type": "code",
   "execution_count": 95,
   "metadata": {},
   "outputs": [
    {
     "name": "stdout",
     "output_type": "stream",
     "text": [
      "    NumOfProducts   lastName firstName\n",
      "0             396  Hernandez    Gerard\n",
      "1             331   Jennings    Leslie\n",
      "2             272   Castillo    Pamela\n",
      "3             236       Bott     Larry\n",
      "4             220      Jones     Barry\n",
      "5             211     Vanauf    George\n",
      "6             185     Fixter      Andy\n",
      "7             185      Marsh     Peter\n",
      "8             177     Bondur      Loui\n",
      "9             152  Patterson     Steve\n",
      "10            142      Tseng  Foon Yue\n",
      "11            137      Nishi      Mami\n",
      "12            124   Firrelli     Julie\n",
      "13            114     Gerard    Martin\n",
      "14            114   Thompson    Leslie\n"
     ]
    }
   ],
   "source": [
    "# Your code here\n",
    "\n",
    "cur.execute(\"\"\"\n",
    "            SELECT count(productName) as NumOfProducts, lastName, firstName/*, orderNumber*/\n",
    "            FROM orders o\n",
    "            JOIN customers c\n",
    "            USING(customerNumber)\n",
    "            JOIN employees e\n",
    "            ON e.employeeNumber = c.salesRepEmployeeNumber\n",
    "            JOIN orderdetails \n",
    "            USING(orderNumber)\n",
    "            JOIN products\n",
    "            USING(productCode)\n",
    "            GROUP BY lastName, firstName\n",
    "            ORDER BY NumOfProducts DESC\n",
    "            \n",
    "            ;\"\"\")\n",
    "#cur.execute(\"\"\"Select htmlDescription from productlines\"\"\")\n",
    "df = pd.DataFrame(cur.fetchall())\n",
    "df.columns = [x[0] for x in cur.description]\n",
    "print(df.tail(15))"
   ]
  },
  {
   "cell_type": "markdown",
   "metadata": {},
   "source": [
    "## Summary"
   ]
  },
  {
   "cell_type": "markdown",
   "metadata": {},
   "source": [
    "Congrats! You practiced using join statements and leveraged your foreign keys knowledge!"
   ]
  }
 ],
 "metadata": {
  "kernelspec": {
   "display_name": "Python 3",
   "language": "python",
   "name": "python3"
  },
  "language_info": {
   "codemirror_mode": {
    "name": "ipython",
    "version": 3
   },
   "file_extension": ".py",
   "mimetype": "text/x-python",
   "name": "python",
   "nbconvert_exporter": "python",
   "pygments_lexer": "ipython3",
   "version": "3.8.5"
  },
  "toc": {
   "base_numbering": 1,
   "nav_menu": {},
   "number_sections": true,
   "sideBar": true,
   "skip_h1_title": false,
   "title_cell": "Table of Contents",
   "title_sidebar": "Contents",
   "toc_cell": false,
   "toc_position": {},
   "toc_section_display": true,
   "toc_window_display": false
  }
 },
 "nbformat": 4,
 "nbformat_minor": 2
}
